{
 "cells": [
  {
   "cell_type": "code",
   "execution_count": 1,
   "id": "026767d0",
   "metadata": {},
   "outputs": [
    {
     "name": "stdout",
     "output_type": "stream",
     "text": [
      "Message: Hello\n",
      "SHA256: 185f8db32271fe25f561a6fc938b2e264306ec304eda518007d1764826381969\n"
     ]
    }
   ],
   "source": [
    "import hashlib\n",
    "\n",
    "\n",
    "def compute_hashes(message):\n",
    "    sha256_hash = hashlib.sha256(message.encode()).hexdigest()\n",
    "    return sha256_hash\n",
    "\n",
    "\n",
    "with open(\"message.txt\", \"r\") as file:\n",
    "    message = file.read().strip() \n",
    "\n",
    "sha256 = compute_hashes(message)\n",
    "\n",
    "print(f\"Message: {message}\")\n",
    "print(f\"SHA256: {sha256}\")\n"
   ]
  }
 ],
 "metadata": {
  "kernelspec": {
   "display_name": "base",
   "language": "python",
   "name": "python3"
  },
  "language_info": {
   "codemirror_mode": {
    "name": "ipython",
    "version": 3
   },
   "file_extension": ".py",
   "mimetype": "text/x-python",
   "name": "python",
   "nbconvert_exporter": "python",
   "pygments_lexer": "ipython3",
   "version": "3.13.2"
  }
 },
 "nbformat": 4,
 "nbformat_minor": 5
}
