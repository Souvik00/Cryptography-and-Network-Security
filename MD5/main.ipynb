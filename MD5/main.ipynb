{
 "cells": [
  {
   "cell_type": "code",
   "execution_count": 2,
   "id": "026767d0",
   "metadata": {},
   "outputs": [
    {
     "name": "stdout",
     "output_type": "stream",
     "text": [
      "Message: Hello\n",
      "MD5: 8b1a9953c4611296a827abf8c47804d7\n"
     ]
    }
   ],
   "source": [
    "import hashlib\n",
    "\n",
    "\n",
    "def compute_hashes(message):\n",
    "    md5_hash = hashlib.md5(message.encode()).hexdigest()\n",
    "    return md5_hash\n",
    "\n",
    "with open(\"message.txt\", \"r\") as file:\n",
    "    message = file.read().strip() \n",
    "\n",
    "md5 = compute_hashes(message)\n",
    "\n",
    "# Print results\n",
    "print(f\"Message: {message}\")\n",
    "print(f\"MD5: {md5}\")\n",
    "\n"
   ]
  }
 ],
 "metadata": {
  "kernelspec": {
   "display_name": "base",
   "language": "python",
   "name": "python3"
  },
  "language_info": {
   "codemirror_mode": {
    "name": "ipython",
    "version": 3
   },
   "file_extension": ".py",
   "mimetype": "text/x-python",
   "name": "python",
   "nbconvert_exporter": "python",
   "pygments_lexer": "ipython3",
   "version": "3.13.2"
  }
 },
 "nbformat": 4,
 "nbformat_minor": 5
}
